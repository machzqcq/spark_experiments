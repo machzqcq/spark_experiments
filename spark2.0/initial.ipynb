{
 "cells": [
  {
   "cell_type": "code",
   "execution_count": 16,
   "metadata": {},
   "outputs": [],
   "source": [
    "from pyspark.sql import SparkSession\n",
    "from pyspark.conf import SparkConf"
   ]
  },
  {
   "cell_type": "code",
   "execution_count": 17,
   "metadata": {},
   "outputs": [
    {
     "data": {
      "text/plain": [
       "<pyspark.conf.SparkConf at 0x111214310>"
      ]
     },
     "execution_count": 17,
     "metadata": {},
     "output_type": "execute_result"
    }
   ],
   "source": [
    "# https://spark.apache.org/docs/latest/api/python/pyspark.html#pyspark.SparkConf\n",
    "config = SparkConf()\n",
    "config.set(\"spark.driver.memory\", \"2g\")\n",
    "config.set(\"spark.executor.memory\", \"1g\")"
   ]
  },
  {
   "cell_type": "code",
   "execution_count": 18,
   "metadata": {},
   "outputs": [],
   "source": [
    "# https://spark.apache.org/docs/latest/api/python/pyspark.sql.html#pyspark.sql.SparkSession\n",
    "spark = SparkSession.builder.config(conf=config).master(\"local\").appName(\"Analyzing Real Estate Sales\").getOrCreate()"
   ]
  },
  {
   "cell_type": "code",
   "execution_count": 4,
   "metadata": {},
   "outputs": [
    {
     "data": {
      "text/html": [
       "\n",
       "            <div>\n",
       "                <p><b>SparkSession - in-memory</b></p>\n",
       "                \n",
       "        <div>\n",
       "            <p><b>SparkContext</b></p>\n",
       "\n",
       "            <p><a href=\"http://192.168.0.6:4040\">Spark UI</a></p>\n",
       "\n",
       "            <dl>\n",
       "              <dt>Version</dt>\n",
       "                <dd><code>v2.4.4</code></dd>\n",
       "              <dt>Master</dt>\n",
       "                <dd><code>local</code></dd>\n",
       "              <dt>AppName</dt>\n",
       "                <dd><code>Analyzing Real Estate Sales</code></dd>\n",
       "            </dl>\n",
       "        </div>\n",
       "        \n",
       "            </div>\n",
       "        "
      ],
      "text/plain": [
       "<pyspark.sql.session.SparkSession at 0x111176250>"
      ]
     },
     "execution_count": 4,
     "metadata": {},
     "output_type": "execute_result"
    }
   ],
   "source": [
    "spark"
   ]
  },
  {
   "cell_type": "code",
   "execution_count": 19,
   "metadata": {},
   "outputs": [],
   "source": [
    "df = spark.read.format('csv').option(\"header\", \"true\").load('../Real_Estate_Sales_2001-2017.csv')"
   ]
  },
  {
   "cell_type": "code",
   "execution_count": 7,
   "metadata": {},
   "outputs": [
    {
     "name": "stdout",
     "output_type": "stream",
     "text": [
      "root\n",
      " |-- ID: string (nullable = true)\n",
      " |-- SerialNumber: string (nullable = true)\n",
      " |-- ListYear: string (nullable = true)\n",
      " |-- DateRecorded: string (nullable = true)\n",
      " |-- Town: string (nullable = true)\n",
      " |-- Address: string (nullable = true)\n",
      " |-- AssessedValue: string (nullable = true)\n",
      " |-- SaleAmount: string (nullable = true)\n",
      " |-- SalesRatio: string (nullable = true)\n",
      " |-- PropertyType: string (nullable = true)\n",
      " |-- ResidentialType: string (nullable = true)\n",
      " |-- NonUseCode: string (nullable = true)\n",
      " |-- Remarks: string (nullable = true)\n",
      "\n"
     ]
    }
   ],
   "source": [
    "df.printSchema()"
   ]
  },
  {
   "cell_type": "code",
   "execution_count": 27,
   "metadata": {},
   "outputs": [
    {
     "name": "stdout",
     "output_type": "stream",
     "text": [
      "+-------+------------------+------------------+------------------+--------------------+---------+------------------+------------------+------------------+-----------------+--------------+---------------+-----------------+--------------------+\n",
      "|summary|                ID|      SerialNumber|          ListYear|        DateRecorded|     Town|           Address|     AssessedValue|        SaleAmount|       SalesRatio|  PropertyType|ResidentialType|       NonUseCode|             Remarks|\n",
      "+-------+------------------+------------------+------------------+--------------------+---------+------------------+------------------+------------------+-----------------+--------------+---------------+-----------------+--------------------+\n",
      "|  count|            861597|            861597|            861597|              861589|   861597|            861594|            861292|            830804|           861596|        815904|         861596|           830867|              826698|\n",
      "|   mean|          430799.0|138280.65832750115|2007.9295262170133|                null|     null|58308.489795918365| 266573.5430295417| 360835.4388932769|755.4543949100346|          null|           null|4.778324718317427|   2969.295486737059|\n",
      "| stddev|248721.77427901086|2601596.6622722144|   5.2151756122739|                null|     null| 91450.02446717425|1645958.9742643659|2012686.8914640213|136995.8398458089|          null|           null|7.886109373939572|  30424.888677610717|\n",
      "|    min|                 1|                 0|              2001|01/01/2002 12:00:...|  Andover|     WORTH AVE 113|                 0|                 0|                0|10 Mill Forest|     Apartments|                0|                    |\n",
      "|    max|             99999|             99529|              2017|12/31/2015 12:00:...|Woodstock|parking space only|            999950|            999999|               NA|   Vacant Land|    Vacant Land|               NA|zoning changed fr...|\n",
      "+-------+------------------+------------------+------------------+--------------------+---------+------------------+------------------+------------------+-----------------+--------------+---------------+-----------------+--------------------+\n",
      "\n"
     ]
    }
   ],
   "source": [
    "df.describe().show()"
   ]
  },
  {
   "cell_type": "code",
   "execution_count": 29,
   "metadata": {},
   "outputs": [
    {
     "name": "stdout",
     "output_type": "stream",
     "text": [
      "+-------+---------+\n",
      "|summary|     Town|\n",
      "+-------+---------+\n",
      "|  count|   861597|\n",
      "|   mean|     null|\n",
      "| stddev|     null|\n",
      "|    min|  Andover|\n",
      "|    max|Woodstock|\n",
      "+-------+---------+\n",
      "\n"
     ]
    }
   ],
   "source": [
    "df.select(\"Town\").describe().show()"
   ]
  },
  {
   "cell_type": "code",
   "execution_count": 30,
   "metadata": {},
   "outputs": [
    {
     "data": {
      "text/plain": [
       "['ID',\n",
       " 'SerialNumber',\n",
       " 'ListYear',\n",
       " 'DateRecorded',\n",
       " 'Town',\n",
       " 'Address',\n",
       " 'AssessedValue',\n",
       " 'SaleAmount',\n",
       " 'SalesRatio',\n",
       " 'PropertyType',\n",
       " 'ResidentialType',\n",
       " 'NonUseCode',\n",
       " 'Remarks']"
      ]
     },
     "execution_count": 30,
     "metadata": {},
     "output_type": "execute_result"
    }
   ],
   "source": [
    "df.columns"
   ]
  },
  {
   "cell_type": "code",
   "execution_count": 31,
   "metadata": {},
   "outputs": [
    {
     "name": "stdout",
     "output_type": "stream",
     "text": [
      "== Physical Plan ==\n",
      "*(1) FileScan csv [ID#257,SerialNumber#258,ListYear#259,DateRecorded#260,Town#261,Address#262,AssessedValue#263,SaleAmount#264,SalesRatio#265,PropertyType#266,ResidentialType#267,NonUseCode#268,Remarks#269] Batched: false, Format: CSV, Location: InMemoryFileIndex[file:/Users/pmacharl/git-projects/personal/github.com/spark_experiments/Real_Es..., PartitionFilters: [], PushedFilters: [], ReadSchema: struct<ID:string,SerialNumber:string,ListYear:string,DateRecorded:string,Town:string,Address:stri...\n"
     ]
    }
   ],
   "source": [
    "df.explain()"
   ]
  },
  {
   "cell_type": "code",
   "execution_count": 8,
   "metadata": {},
   "outputs": [
    {
     "data": {
      "text/plain": [
       "861597"
      ]
     },
     "execution_count": 8,
     "metadata": {},
     "output_type": "execute_result"
    }
   ],
   "source": [
    "df.count()"
   ]
  },
  {
   "cell_type": "code",
   "execution_count": 9,
   "metadata": {},
   "outputs": [
    {
     "name": "stdout",
     "output_type": "stream",
     "text": [
      "+------+------------+--------+--------------------+----------+--------------------+-------------+----------+-----------------+------------+---------------+----------------+--------------------+\n",
      "|    ID|SerialNumber|ListYear|        DateRecorded|      Town|             Address|AssessedValue|SaleAmount|       SalesRatio|PropertyType|ResidentialType|      NonUseCode|             Remarks|\n",
      "+------+------------+--------+--------------------+----------+--------------------+-------------+----------+-----------------+------------+---------------+----------------+--------------------+\n",
      "|815906|      170177|    2017|04/05/1999 12:00:...|New London|      293 PEQUOT AVE|       132440|    252500|            0.525|        null|     Two Family|            null|                null|\n",
      "|     2|      900035|    2009|07/20/2010 12:00:...|   Andover|     1 DOGWOOD DRIVE|        55600|     99000|0.561616161616162| Vacant Land|             NA|              NA|                  NA|\n",
      "|     3|       14011|    2014|01/14/2015 12:00:...|   Andover|     1 JUROVATY LANE|       153100|    190000|      0.805789474| Residential|  Single Family|              NA|                  NA|\n",
      "|     4|       80009|    2008|01/21/2009 12:00:...|   Andover|         1 ROSE LANE|       116600|    138900|0.839452843772498| Residential|  Single Family|              NA|                  NA|\n",
      "|     5|       15006|    2015|11/30/2015 12:00:...|   Andover|         1 ROSE LANE|       102900|     50000|            2.058| Residential|  Single Family|14 - Foreclosure|PROPERTY WAS OWNE...|\n",
      "|     6|       20030|    2002|04/24/2003 12:00:...|   Andover|       10 BAUSOLA RD|        91800|    189900| 48.3412322274881| Residential|  Single Family|               0|                  NA|\n",
      "|815907|      173165|    2017|08/01/2001 12:00:...|   Shelton|        28 SUNSET DR|       126980|    238000|            0.534|        null|  Single Family|            null|                null|\n",
      "|     8|       30047|    2003|04/19/2004 12:00:...|   Andover|  10 CHESTER BRKS LN|        56600|     80000|            70.75| Vacant Land|             NA|               0|                  NA|\n",
      "|     9|       40003|    2004|10/18/2004 12:00:...|   Andover|  10 CHESTER BRKS LN|       194100|    446639| 43.4579156768666| Residential|  Single Family|               7|                  NA|\n",
      "|    10|       70005|    2007|11/19/2007 12:00:...|   Andover|10 CHESTER BROOKS LN|       313400|    425000|0.737411764705882| Residential|  Single Family|              NA|                  NA|\n",
      "|    11|       40042|    2004|05/23/2005 12:00:...|   Andover|       10 DOGWOOD DR|       218700|    440000| 49.7045454545455| Residential|  Single Family|               7|                  NA|\n",
      "|    12|       13021|    2013|06/16/2014 12:00:...|   Andover|  10 HICKORY HILL DR|       109400|    165000|            0.663| Residential|  Single Family|              NA|                  NA|\n",
      "|    13|       40035|    2004|04/01/2005 12:00:...|   Andover|    10 HICKORY HL DR|        77900|    184000| 42.3369565217391| Residential|  Single Family|               0|                  NA|\n",
      "|    14|       14044|    2014|09/28/2015 12:00:...|   Andover|   10 PINE RIDGE  DR|       108700|    128368|      0.846784245| Residential|  Single Family|              NA|                  NA|\n",
      "|    15|       50027|    2005|03/16/2006 12:00:...|   Andover|     10 SHODDY ML RD|        84900|    215000| 39.4883720930233| Residential|  Single Family|               1|                  NA|\n",
      "|    16|       30063|    2003|07/15/2004 12:00:...|   Andover|       101 GILEAD RD|       104000|    218000|             47.7| Residential|  Single Family|               0|                  NA|\n",
      "|    17|       14035|    2014|08/10/2015 12:00:...|   Andover|        101 WALES RD|       164000|    230000|      0.713043478| Residential|  Single Family|              NA|                  NA|\n",
      "|    18|      900008|    2009|12/14/2009 12:00:...|   Andover|      101 WALES ROAD|       186400|    248500| 0.75010060362173| Residential|  Single Family|              NA|                  NA|\n",
      "|    19|       40650|    2004|08/18/2005 12:00:...|   Andover|       102 GILEAD RD|       111100|    279900| 39.6927474097892| Residential|  Single Family|               0|                  NA|\n",
      "|    20|       30055|    2003|01/06/2004 12:00:...|   Andover|         104 WEST ST|        52300|    314867|            16.61| Residential|  Single Family|               7|                  NA|\n",
      "+------+------------+--------+--------------------+----------+--------------------+-------------+----------+-----------------+------------+---------------+----------------+--------------------+\n",
      "only showing top 20 rows\n",
      "\n"
     ]
    }
   ],
   "source": [
    "df.show()"
   ]
  },
  {
   "cell_type": "code",
   "execution_count": 32,
   "metadata": {},
   "outputs": [
    {
     "data": {
      "text/plain": [
       "[Row(ID='815906', SerialNumber='170177', ListYear='2017', DateRecorded='04/05/1999 12:00:00 AM', Town='New London', Address='293 PEQUOT AVE', AssessedValue='132440', SaleAmount='252500', SalesRatio='0.525', PropertyType=None, ResidentialType='Two Family', NonUseCode=None, Remarks=None),\n",
       " Row(ID='2', SerialNumber='900035', ListYear='2009', DateRecorded='07/20/2010 12:00:00 AM', Town='Andover', Address='1 DOGWOOD DRIVE', AssessedValue='55600', SaleAmount='99000', SalesRatio='0.561616161616162', PropertyType='Vacant Land', ResidentialType='NA', NonUseCode='NA', Remarks='NA'),\n",
       " Row(ID='3', SerialNumber='14011', ListYear='2014', DateRecorded='01/14/2015 12:00:00 AM', Town='Andover', Address='1 JUROVATY LANE', AssessedValue='153100', SaleAmount='190000', SalesRatio='0.805789474', PropertyType='Residential', ResidentialType='Single Family', NonUseCode='NA', Remarks='NA'),\n",
       " Row(ID='4', SerialNumber='80009', ListYear='2008', DateRecorded='01/21/2009 12:00:00 AM', Town='Andover', Address='1 ROSE LANE', AssessedValue='116600', SaleAmount='138900', SalesRatio='0.839452843772498', PropertyType='Residential', ResidentialType='Single Family', NonUseCode='NA', Remarks='NA'),\n",
       " Row(ID='5', SerialNumber='15006', ListYear='2015', DateRecorded='11/30/2015 12:00:00 AM', Town='Andover', Address='1 ROSE LANE', AssessedValue='102900', SaleAmount='50000', SalesRatio='2.058', PropertyType='Residential', ResidentialType='Single Family', NonUseCode='14 - Foreclosure', Remarks='PROPERTY WAS OWNED BY THE BANK')]"
      ]
     },
     "execution_count": 32,
     "metadata": {},
     "output_type": "execute_result"
    }
   ],
   "source": [
    "df.head(5) # OR df.take(5)"
   ]
  },
  {
   "cell_type": "code",
   "execution_count": 22,
   "metadata": {},
   "outputs": [
    {
     "name": "stdout",
     "output_type": "stream",
     "text": [
      "+----------+\n",
      "|      Town|\n",
      "+----------+\n",
      "|New London|\n",
      "|   Andover|\n",
      "|   Andover|\n",
      "|   Andover|\n",
      "|   Andover|\n",
      "|   Andover|\n",
      "|   Shelton|\n",
      "|   Andover|\n",
      "|   Andover|\n",
      "|   Andover|\n",
      "|   Andover|\n",
      "|   Andover|\n",
      "|   Andover|\n",
      "|   Andover|\n",
      "|   Andover|\n",
      "|   Andover|\n",
      "|   Andover|\n",
      "|   Andover|\n",
      "|   Andover|\n",
      "|   Andover|\n",
      "+----------+\n",
      "only showing top 20 rows\n",
      "\n"
     ]
    }
   ],
   "source": [
    "df.select(\"Town\").show()"
   ]
  },
  {
   "cell_type": "code",
   "execution_count": 10,
   "metadata": {},
   "outputs": [
    {
     "name": "stdout",
     "output_type": "stream",
     "text": [
      "+------+------------+--------+--------------------+----------+--------------------+-------------+----------+-----------------+------------+---------------+----------------+--------------------+\n",
      "|    ID|SerialNumber|ListYear|        DateRecorded|      Town|             Address|AssessedValue|SaleAmount|       SalesRatio|PropertyType|ResidentialType|      NonUseCode|             Remarks|\n",
      "+------+------------+--------+--------------------+----------+--------------------+-------------+----------+-----------------+------------+---------------+----------------+--------------------+\n",
      "|815906|      170177|    2017|04/05/1999 12:00:...|New London|      293 PEQUOT AVE|       132440|    252500|            0.525|        null|     Two Family|            null|                null|\n",
      "|     2|      900035|    2009|07/20/2010 12:00:...|   Andover|     1 DOGWOOD DRIVE|        55600|     99000|0.561616161616162| Vacant Land|             NA|              NA|                  NA|\n",
      "|     3|       14011|    2014|01/14/2015 12:00:...|   Andover|     1 JUROVATY LANE|       153100|    190000|      0.805789474| Residential|  Single Family|              NA|                  NA|\n",
      "|     4|       80009|    2008|01/21/2009 12:00:...|   Andover|         1 ROSE LANE|       116600|    138900|0.839452843772498| Residential|  Single Family|              NA|                  NA|\n",
      "|     5|       15006|    2015|11/30/2015 12:00:...|   Andover|         1 ROSE LANE|       102900|     50000|            2.058| Residential|  Single Family|14 - Foreclosure|PROPERTY WAS OWNE...|\n",
      "|     6|       20030|    2002|04/24/2003 12:00:...|   Andover|       10 BAUSOLA RD|        91800|    189900| 48.3412322274881| Residential|  Single Family|               0|                  NA|\n",
      "|815907|      173165|    2017|08/01/2001 12:00:...|   Shelton|        28 SUNSET DR|       126980|    238000|            0.534|        null|  Single Family|            null|                null|\n",
      "|     8|       30047|    2003|04/19/2004 12:00:...|   Andover|  10 CHESTER BRKS LN|        56600|     80000|            70.75| Vacant Land|             NA|               0|                  NA|\n",
      "|     9|       40003|    2004|10/18/2004 12:00:...|   Andover|  10 CHESTER BRKS LN|       194100|    446639| 43.4579156768666| Residential|  Single Family|               7|                  NA|\n",
      "|    10|       70005|    2007|11/19/2007 12:00:...|   Andover|10 CHESTER BROOKS LN|       313400|    425000|0.737411764705882| Residential|  Single Family|              NA|                  NA|\n",
      "+------+------------+--------+--------------------+----------+--------------------+-------------+----------+-----------------+------------+---------------+----------------+--------------------+\n",
      "\n"
     ]
    }
   ],
   "source": [
    "df.limit(10).show()"
   ]
  },
  {
   "cell_type": "code",
   "execution_count": 11,
   "metadata": {},
   "outputs": [
    {
     "data": {
      "text/plain": [
       "DataFrame[ID: string, SerialNumber: string, ListYear: string, DateRecorded: string, Town: string, Address: string, AssessedValue: string, SaleAmount: string, SalesRatio: string, PropertyType: string, ResidentialType: string, NonUseCode: string, Remarks: string]"
      ]
     },
     "execution_count": 11,
     "metadata": {},
     "output_type": "execute_result"
    }
   ],
   "source": [
    "df.dropna()"
   ]
  },
  {
   "cell_type": "code",
   "execution_count": 12,
   "metadata": {},
   "outputs": [
    {
     "name": "stdout",
     "output_type": "stream",
     "text": [
      "+------------+--------+--------------------+----------+--------------------+-------------+----------+-----------------+------------+---------------+----------------+--------------------+\n",
      "|SerialNumber|ListYear|        DateRecorded|      Town|             Address|AssessedValue|SaleAmount|       SalesRatio|PropertyType|ResidentialType|      NonUseCode|             Remarks|\n",
      "+------------+--------+--------------------+----------+--------------------+-------------+----------+-----------------+------------+---------------+----------------+--------------------+\n",
      "|      170177|    2017|04/05/1999 12:00:...|New London|      293 PEQUOT AVE|       132440|    252500|            0.525|        null|     Two Family|            null|                null|\n",
      "|      900035|    2009|07/20/2010 12:00:...|   Andover|     1 DOGWOOD DRIVE|        55600|     99000|0.561616161616162| Vacant Land|             NA|              NA|                  NA|\n",
      "|       14011|    2014|01/14/2015 12:00:...|   Andover|     1 JUROVATY LANE|       153100|    190000|      0.805789474| Residential|  Single Family|              NA|                  NA|\n",
      "|       80009|    2008|01/21/2009 12:00:...|   Andover|         1 ROSE LANE|       116600|    138900|0.839452843772498| Residential|  Single Family|              NA|                  NA|\n",
      "|       15006|    2015|11/30/2015 12:00:...|   Andover|         1 ROSE LANE|       102900|     50000|            2.058| Residential|  Single Family|14 - Foreclosure|PROPERTY WAS OWNE...|\n",
      "|       20030|    2002|04/24/2003 12:00:...|   Andover|       10 BAUSOLA RD|        91800|    189900| 48.3412322274881| Residential|  Single Family|               0|                  NA|\n",
      "|      173165|    2017|08/01/2001 12:00:...|   Shelton|        28 SUNSET DR|       126980|    238000|            0.534|        null|  Single Family|            null|                null|\n",
      "|       30047|    2003|04/19/2004 12:00:...|   Andover|  10 CHESTER BRKS LN|        56600|     80000|            70.75| Vacant Land|             NA|               0|                  NA|\n",
      "|       40003|    2004|10/18/2004 12:00:...|   Andover|  10 CHESTER BRKS LN|       194100|    446639| 43.4579156768666| Residential|  Single Family|               7|                  NA|\n",
      "|       70005|    2007|11/19/2007 12:00:...|   Andover|10 CHESTER BROOKS LN|       313400|    425000|0.737411764705882| Residential|  Single Family|              NA|                  NA|\n",
      "|       40042|    2004|05/23/2005 12:00:...|   Andover|       10 DOGWOOD DR|       218700|    440000| 49.7045454545455| Residential|  Single Family|               7|                  NA|\n",
      "|       13021|    2013|06/16/2014 12:00:...|   Andover|  10 HICKORY HILL DR|       109400|    165000|            0.663| Residential|  Single Family|              NA|                  NA|\n",
      "|       40035|    2004|04/01/2005 12:00:...|   Andover|    10 HICKORY HL DR|        77900|    184000| 42.3369565217391| Residential|  Single Family|               0|                  NA|\n",
      "|       14044|    2014|09/28/2015 12:00:...|   Andover|   10 PINE RIDGE  DR|       108700|    128368|      0.846784245| Residential|  Single Family|              NA|                  NA|\n",
      "|       50027|    2005|03/16/2006 12:00:...|   Andover|     10 SHODDY ML RD|        84900|    215000| 39.4883720930233| Residential|  Single Family|               1|                  NA|\n",
      "|       30063|    2003|07/15/2004 12:00:...|   Andover|       101 GILEAD RD|       104000|    218000|             47.7| Residential|  Single Family|               0|                  NA|\n",
      "|       14035|    2014|08/10/2015 12:00:...|   Andover|        101 WALES RD|       164000|    230000|      0.713043478| Residential|  Single Family|              NA|                  NA|\n",
      "|      900008|    2009|12/14/2009 12:00:...|   Andover|      101 WALES ROAD|       186400|    248500| 0.75010060362173| Residential|  Single Family|              NA|                  NA|\n",
      "|       40650|    2004|08/18/2005 12:00:...|   Andover|       102 GILEAD RD|       111100|    279900| 39.6927474097892| Residential|  Single Family|               0|                  NA|\n",
      "|       30055|    2003|01/06/2004 12:00:...|   Andover|         104 WEST ST|        52300|    314867|            16.61| Residential|  Single Family|               7|                  NA|\n",
      "+------------+--------+--------------------+----------+--------------------+-------------+----------+-----------------+------------+---------------+----------------+--------------------+\n",
      "only showing top 20 rows\n",
      "\n"
     ]
    }
   ],
   "source": [
    "df1 = df.drop(\"ID\")\n",
    "df1.show()"
   ]
  },
  {
   "cell_type": "code",
   "execution_count": 13,
   "metadata": {},
   "outputs": [
    {
     "name": "stdout",
     "output_type": "stream",
     "text": [
      "+--------------+\n",
      "|  PropertyType|\n",
      "+--------------+\n",
      "|    Apartments|\n",
      "|   Vacant Land|\n",
      "|            NA|\n",
      "|   Residential|\n",
      "|          null|\n",
      "|    Industrial|\n",
      "|         Condo|\n",
      "|Public Utility|\n",
      "|10 Mill Forest|\n",
      "|    Commercial|\n",
      "+--------------+\n",
      "\n"
     ]
    }
   ],
   "source": [
    "distinct_property_type = df1.select(\"PropertyType\").distinct()\n",
    "distinct_property_type.show()"
   ]
  },
  {
   "cell_type": "code",
   "execution_count": 14,
   "metadata": {},
   "outputs": [
    {
     "data": {
      "text/plain": [
       "10"
      ]
     },
     "execution_count": 14,
     "metadata": {},
     "output_type": "execute_result"
    }
   ],
   "source": [
    "distinct_property_type.count()"
   ]
  },
  {
   "cell_type": "code",
   "execution_count": 23,
   "metadata": {},
   "outputs": [],
   "source": [
    "df_andover_town = df.filter(df['Town']=='Andover')"
   ]
  },
  {
   "cell_type": "code",
   "execution_count": 25,
   "metadata": {},
   "outputs": [
    {
     "name": "stdout",
     "output_type": "stream",
     "text": [
      "+---+------------+--------+--------------------+-------+--------------------+-------------+----------+-----------------+------------+---------------+----------------+--------------------+\n",
      "| ID|SerialNumber|ListYear|        DateRecorded|   Town|             Address|AssessedValue|SaleAmount|       SalesRatio|PropertyType|ResidentialType|      NonUseCode|             Remarks|\n",
      "+---+------------+--------+--------------------+-------+--------------------+-------------+----------+-----------------+------------+---------------+----------------+--------------------+\n",
      "|  2|      900035|    2009|07/20/2010 12:00:...|Andover|     1 DOGWOOD DRIVE|        55600|     99000|0.561616161616162| Vacant Land|             NA|              NA|                  NA|\n",
      "|  3|       14011|    2014|01/14/2015 12:00:...|Andover|     1 JUROVATY LANE|       153100|    190000|      0.805789474| Residential|  Single Family|              NA|                  NA|\n",
      "|  4|       80009|    2008|01/21/2009 12:00:...|Andover|         1 ROSE LANE|       116600|    138900|0.839452843772498| Residential|  Single Family|              NA|                  NA|\n",
      "|  5|       15006|    2015|11/30/2015 12:00:...|Andover|         1 ROSE LANE|       102900|     50000|            2.058| Residential|  Single Family|14 - Foreclosure|PROPERTY WAS OWNE...|\n",
      "|  6|       20030|    2002|04/24/2003 12:00:...|Andover|       10 BAUSOLA RD|        91800|    189900| 48.3412322274881| Residential|  Single Family|               0|                  NA|\n",
      "|  8|       30047|    2003|04/19/2004 12:00:...|Andover|  10 CHESTER BRKS LN|        56600|     80000|            70.75| Vacant Land|             NA|               0|                  NA|\n",
      "|  9|       40003|    2004|10/18/2004 12:00:...|Andover|  10 CHESTER BRKS LN|       194100|    446639| 43.4579156768666| Residential|  Single Family|               7|                  NA|\n",
      "| 10|       70005|    2007|11/19/2007 12:00:...|Andover|10 CHESTER BROOKS LN|       313400|    425000|0.737411764705882| Residential|  Single Family|              NA|                  NA|\n",
      "| 11|       40042|    2004|05/23/2005 12:00:...|Andover|       10 DOGWOOD DR|       218700|    440000| 49.7045454545455| Residential|  Single Family|               7|                  NA|\n",
      "| 12|       13021|    2013|06/16/2014 12:00:...|Andover|  10 HICKORY HILL DR|       109400|    165000|            0.663| Residential|  Single Family|              NA|                  NA|\n",
      "| 13|       40035|    2004|04/01/2005 12:00:...|Andover|    10 HICKORY HL DR|        77900|    184000| 42.3369565217391| Residential|  Single Family|               0|                  NA|\n",
      "| 14|       14044|    2014|09/28/2015 12:00:...|Andover|   10 PINE RIDGE  DR|       108700|    128368|      0.846784245| Residential|  Single Family|              NA|                  NA|\n",
      "| 15|       50027|    2005|03/16/2006 12:00:...|Andover|     10 SHODDY ML RD|        84900|    215000| 39.4883720930233| Residential|  Single Family|               1|                  NA|\n",
      "| 16|       30063|    2003|07/15/2004 12:00:...|Andover|       101 GILEAD RD|       104000|    218000|             47.7| Residential|  Single Family|               0|                  NA|\n",
      "| 17|       14035|    2014|08/10/2015 12:00:...|Andover|        101 WALES RD|       164000|    230000|      0.713043478| Residential|  Single Family|              NA|                  NA|\n",
      "| 18|      900008|    2009|12/14/2009 12:00:...|Andover|      101 WALES ROAD|       186400|    248500| 0.75010060362173| Residential|  Single Family|              NA|                  NA|\n",
      "| 19|       40650|    2004|08/18/2005 12:00:...|Andover|       102 GILEAD RD|       111100|    279900| 39.6927474097892| Residential|  Single Family|               0|                  NA|\n",
      "| 20|       30055|    2003|01/06/2004 12:00:...|Andover|         104 WEST ST|        52300|    314867|            16.61| Residential|  Single Family|               7|                  NA|\n",
      "| 21|       30037|    2003|02/02/2004 12:00:...|Andover|       106 HENDEE RD|       106100|    220000|            48.22| Residential|  Single Family|               0|                  NA|\n",
      "| 22|       15051|    2015|09/28/2016 12:00:...|Andover|     107 LAKESIDE DR|       188400|    226000|      0.833628319| Residential|  Single Family|              NA|                  NA|\n",
      "| 23|       20026|    2002|03/04/2003 12:00:...|Andover|     109 LAKESIDE DR|        96700|    146000| 66.2328767123288| Residential|  Single Family|               0|                  NA|\n",
      "| 25|       13010|    2013|03/17/2014 12:00:...|Andover|    11 CENTER STREET|       130200|    164000|            0.794| Residential|  Single Family|              NA|                  NA|\n",
      "| 26|       30072|    2003|08/16/2004 12:00:...|Andover|       11 DOGWOOD DR|        45600|    449900|            10.13| Residential|  Single Family|               7|                  NA|\n",
      "| 27|      100027|    2010|07/11/2011 12:00:...|Andover|    11 DOGWOOD DRIVE|       348600|    450000|0.774666666666666| Residential|  Single Family|              NA|                  NA|\n",
      "| 28|       40001|    2004|10/12/2004 12:00:...|Andover|      11 SHADBLOW LN|       132800|    381900| 34.7735009164703| Residential|  Single Family|               7|                  NA|\n",
      "| 29|       14002|    2014|10/28/2014 12:00:...|Andover|          11 WEST ST|        89400|     48000|           1.8625| Residential|  Single Family|              NA|                  NA|\n",
      "| 30|       50050|    2005|08/07/2006 12:00:...|Andover|      11 WHEELING RD|       116500|    215000| 54.1860465116279| Residential|  Single Family|               6|                  NA|\n",
      "| 32|       50046|    2005|07/11/2006 12:00:...|Andover|    11 WOOD FERN WAY|        54900|    465000| 11.8064516129032| Residential|  Single Family|               7|                  NA|\n",
      "| 33|       70019|    2007|04/29/2008 12:00:...|Andover|     111 LAKESIDE DR|       198100|    350000|            0.566| Residential|  Single Family|              NA|                  NA|\n",
      "| 34|       20037|    2002|05/05/2003 12:00:...|Andover|         112 LAKE RD|            0|    129000|                0| Residential|  Single Family|               0|                  NA|\n",
      "+---+------------+--------+--------------------+-------+--------------------+-------------+----------+-----------------+------------+---------------+----------------+--------------------+\n",
      "only showing top 30 rows\n",
      "\n"
     ]
    }
   ],
   "source": [
    "df_andover_town.show(30)"
   ]
  },
  {
   "cell_type": "code",
   "execution_count": 35,
   "metadata": {},
   "outputs": [],
   "source": [
    "# The file is saved with a name part_00_xx.snappy.parquet\n",
    "df.write.save(\"blahfolder\",format=\"parquet\")"
   ]
  },
  {
   "cell_type": "code",
   "execution_count": 15,
   "metadata": {},
   "outputs": [],
   "source": [
    "# spark.catalog.clearCache()\n",
    "spark.stop()"
   ]
  }
 ],
 "metadata": {
  "kernelspec": {
   "display_name": "Python 3",
   "language": "python",
   "name": "python3"
  },
  "language_info": {
   "codemirror_mode": {
    "name": "ipython",
    "version": 3
   },
   "file_extension": ".py",
   "mimetype": "text/x-python",
   "name": "python",
   "nbconvert_exporter": "python",
   "pygments_lexer": "ipython3",
   "version": "3.7.5"
  }
 },
 "nbformat": 4,
 "nbformat_minor": 4
}
